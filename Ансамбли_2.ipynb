{
 "cells": [
  {
   "cell_type": "markdown",
   "id": "3085ec43-34bb-4afb-9515-517e0489db3e",
   "metadata": {
    "id": "3085ec43-34bb-4afb-9515-517e0489db3e"
   },
   "source": [
    "## Ансамбли и полносвязные нейронные сети\n",
    "В этом ноутбуке вам нужно обучить модели на датасете классификации из предыдущего ноутбука и сравнить результаты. Вам будет предоставлен baseline, на основе которого вы будете доделывать предсказывающие модели. Оценка лабы будет зависеть от ROC-AUC на тестовых данных по следующим критериям:\n",
    "\\\n",
    "AUC - на тестовых данных\n",
    "- $AUC \\leq 0.76$ - 0 баллов\n",
    "- $0.76 < AUC \\leq 0.77$ - 2 балла\n",
    "- $0.77 < AUC \\leq 0.78$ - 4 балла\n",
    "- $0.78 < AUC \\leq 0.79$ - 6 баллов\n",
    "- $0.79 < AUC \\leq 0.80$ - 8 баллов\n",
    "- $AUC > 0.80$ - 10 баллов\n"
   ]
  },
  {
   "cell_type": "code",
   "execution_count": 1,
   "id": "bIhnqzqamfTf",
   "metadata": {
    "colab": {
     "base_uri": "https://localhost:8080/"
    },
    "id": "bIhnqzqamfTf",
    "outputId": "a4478f43-2c20-4947-a9a3-a651ac01fd7e"
   },
   "outputs": [
    {
     "name": "stdout",
     "output_type": "stream",
     "text": [
      "Defaulting to user installation because normal site-packages is not writeable\n",
      "Requirement already satisfied: optuna in c:\\users\\dan4i\\appdata\\local\\packages\\pythonsoftwarefoundation.python.3.12_qbz5n2kfra8p0\\localcache\\local-packages\\python312\\site-packages (4.0.0)\n",
      "Requirement already satisfied: alembic>=1.5.0 in c:\\users\\dan4i\\appdata\\local\\packages\\pythonsoftwarefoundation.python.3.12_qbz5n2kfra8p0\\localcache\\local-packages\\python312\\site-packages (from optuna) (1.13.3)\n",
      "Requirement already satisfied: colorlog in c:\\users\\dan4i\\appdata\\local\\packages\\pythonsoftwarefoundation.python.3.12_qbz5n2kfra8p0\\localcache\\local-packages\\python312\\site-packages (from optuna) (6.8.2)\n",
      "Requirement already satisfied: numpy in c:\\users\\dan4i\\appdata\\local\\packages\\pythonsoftwarefoundation.python.3.12_qbz5n2kfra8p0\\localcache\\local-packages\\python312\\site-packages (from optuna) (2.1.1)\n",
      "Requirement already satisfied: packaging>=20.0 in c:\\users\\dan4i\\appdata\\local\\packages\\pythonsoftwarefoundation.python.3.12_qbz5n2kfra8p0\\localcache\\local-packages\\python312\\site-packages (from optuna) (24.1)\n",
      "Requirement already satisfied: sqlalchemy>=1.3.0 in c:\\users\\dan4i\\appdata\\local\\packages\\pythonsoftwarefoundation.python.3.12_qbz5n2kfra8p0\\localcache\\local-packages\\python312\\site-packages (from optuna) (2.0.36)\n",
      "Requirement already satisfied: tqdm in c:\\users\\dan4i\\appdata\\local\\packages\\pythonsoftwarefoundation.python.3.12_qbz5n2kfra8p0\\localcache\\local-packages\\python312\\site-packages (from optuna) (4.66.5)\n",
      "Requirement already satisfied: PyYAML in c:\\users\\dan4i\\appdata\\local\\packages\\pythonsoftwarefoundation.python.3.12_qbz5n2kfra8p0\\localcache\\local-packages\\python312\\site-packages (from optuna) (6.0.2)\n",
      "Requirement already satisfied: Mako in c:\\users\\dan4i\\appdata\\local\\packages\\pythonsoftwarefoundation.python.3.12_qbz5n2kfra8p0\\localcache\\local-packages\\python312\\site-packages (from alembic>=1.5.0->optuna) (1.3.6)\n",
      "Requirement already satisfied: typing-extensions>=4 in c:\\users\\dan4i\\appdata\\local\\packages\\pythonsoftwarefoundation.python.3.12_qbz5n2kfra8p0\\localcache\\local-packages\\python312\\site-packages (from alembic>=1.5.0->optuna) (4.12.2)\n",
      "Requirement already satisfied: greenlet!=0.4.17 in c:\\users\\dan4i\\appdata\\local\\packages\\pythonsoftwarefoundation.python.3.12_qbz5n2kfra8p0\\localcache\\local-packages\\python312\\site-packages (from sqlalchemy>=1.3.0->optuna) (3.1.1)\n",
      "Requirement already satisfied: colorama in c:\\users\\dan4i\\appdata\\local\\packages\\pythonsoftwarefoundation.python.3.12_qbz5n2kfra8p0\\localcache\\local-packages\\python312\\site-packages (from colorlog->optuna) (0.4.6)\n",
      "Requirement already satisfied: MarkupSafe>=0.9.2 in c:\\users\\dan4i\\appdata\\local\\packages\\pythonsoftwarefoundation.python.3.12_qbz5n2kfra8p0\\localcache\\local-packages\\python312\\site-packages (from Mako->alembic>=1.5.0->optuna) (3.0.2)\n"
     ]
    },
    {
     "name": "stderr",
     "output_type": "stream",
     "text": [
      "\n",
      "[notice] A new release of pip is available: 24.2 -> 24.3.1\n",
      "[notice] To update, run: C:\\Users\\dan4i\\AppData\\Local\\Microsoft\\WindowsApps\\PythonSoftwareFoundation.Python.3.12_qbz5n2kfra8p0\\python.exe -m pip install --upgrade pip\n"
     ]
    }
   ],
   "source": [
    "!pip install optuna"
   ]
  },
  {
   "cell_type": "code",
   "execution_count": 2,
   "id": "ec07e3a2-480a-4350-868e-02679ff2aada",
   "metadata": {
    "id": "ec07e3a2-480a-4350-868e-02679ff2aada",
    "tags": []
   },
   "outputs": [],
   "source": [
    "from sklearn.ensemble import RandomForestClassifier, GradientBoostingClassifier\n",
    "from sklearn.neural_network import MLPClassifier\n",
    "\n",
    "from sklearn.metrics import roc_auc_score, precision_score, recall_score, roc_curve, accuracy_score\n",
    "\n",
    "from sklearn.model_selection import train_test_split\n",
    "\n",
    "import matplotlib.pyplot as plt\n",
    "import pandas as pd\n",
    "import numpy as np"
   ]
  },
  {
   "cell_type": "code",
   "execution_count": 3,
   "id": "563ad31b-5c83-4366-819a-34dad4edecdc",
   "metadata": {
    "collapsed": true,
    "id": "563ad31b-5c83-4366-819a-34dad4edecdc",
    "tags": []
   },
   "outputs": [],
   "source": [
    "data = pd.read_csv('german.csv', sep=';')\n",
    "data = data.drop('Foreign_Worker', axis=1)\n",
    "\n",
    "X = data.iloc[:, 1:]\n",
    "y = data.iloc[:, 0]\n",
    "\n",
    "missing_values_count = X.isnull().sum()\n",
    "X_cleaned = X.dropna() if missing_values_count.sum() < len(X) * 0.05 else X.fillna(X.median())\n",
    "\n",
    "Q1 = X_cleaned.quantile(0.25)\n",
    "Q3 = X_cleaned.quantile(0.75)\n",
    "IQR = Q3 - Q1\n",
    "\n",
    "mask = ~((X_cleaned < (Q1 - 1.5 * IQR)) | (X_cleaned > (Q3 + 1.5 * IQR))).any(axis=1)\n",
    "X_no_outliers = X_cleaned[mask]\n",
    "y_no_outliers = y[mask]\n",
    "\n",
    "X_train, X_test, y_train, y_test = train_test_split(X_no_outliers, y_no_outliers, test_size=0.2, random_state=42)"
   ]
  },
  {
   "cell_type": "code",
   "execution_count": 4,
   "id": "f93737ec-e5eb-4d72-8beb-5dba4d4c581f",
   "metadata": {
    "colab": {
     "base_uri": "https://localhost:8080/",
     "height": 472
    },
    "collapsed": true,
    "id": "f93737ec-e5eb-4d72-8beb-5dba4d4c581f",
    "outputId": "cfc4d5e5-d50b-43da-9f2d-0d7c06d68a31",
    "tags": []
   },
   "outputs": [
    {
     "data": {
      "image/png": "[encoded data removed]",
      "text/plain": [
       "<Figure size 640x480 with 1 Axes>"
      ]
     },
     "metadata": {},
     "output_type": "display_data"
    }
   ],
   "source": [
    "plt.hist(y_train, bins=2, edgecolor='k')\n",
    "plt.xticks([0, 1])\n",
    "plt.xlabel('Class (0: Non-Creditworthy, 1: Creditworthy)')\n",
    "plt.ylabel('Count')\n",
    "plt.title('Distribution of Classes in Training Data')\n",
    "plt.show()"
   ]
  },
  {
   "cell_type": "code",
   "execution_count": 5,
   "id": "rKH0qkZ1xwhb",
   "metadata": {
    "id": "rKH0qkZ1xwhb"
   },
   "outputs": [
    {
     "name": "stderr",
     "output_type": "stream",
     "text": [
      "C:\\Users\\dan4i\\AppData\\Local\\Packages\\PythonSoftwareFoundation.Python.3.12_qbz5n2kfra8p0\\LocalCache\\local-packages\\Python312\\site-packages\\tqdm\\auto.py:21: TqdmWarning: IProgress not found. Please update jupyter and ipywidgets. See https://ipywidgets.readthedocs.io/en/stable/user_install.html\n",
      "  from .autonotebook import tqdm as notebook_tqdm\n"
     ]
    }
   ],
   "source": [
    "#масштабируем данные\n",
    "from sklearn.preprocessing import StandardScaler\n",
    "\n",
    "scaler = StandardScaler()\n",
    "X_train_scaled = scaler.fit_transform(X_train)\n",
    "X_test_scaled = scaler.transform(X_test)\n",
    "import optuna"
   ]
  },
  {
   "cell_type": "code",
   "execution_count": 6,
   "id": "eNNbmNuLlwKf",
   "metadata": {
    "colab": {
     "base_uri": "https://localhost:8080/"
    },
    "collapsed": true,
    "id": "eNNbmNuLlwKf",
    "outputId": "8004741d-6d75-4782-b368-ae8d38502aa9"
   },
   "outputs": [
    {
     "name": "stderr",
     "output_type": "stream",
     "text": [
      "[I 2024-10-31 20:24:48,031] A new study created in memory with name: no-name-c6a5c0bf-12a0-4d2c-8af2-637528fe2e30\n",
      "[I 2024-10-31 20:24:48,083] Trial 0 finished with value: 0.5 and parameters: {'n_estimators': 132, 'learning_rate': 0.008871806794612047, 'max_depth': 234, 'min_samples_split': 153, 'min_samples_leaf': 91}. Best is trial 0 with value: 0.5.\n",
      "[I 2024-10-31 20:24:48,093] Trial 1 finished with value: 0.5 and parameters: {'n_estimators': 17, 'learning_rate': 3.442400592538253, 'max_depth': 217, 'min_samples_split': 191, 'min_samples_leaf': 38}. Best is trial 0 with value: 0.5.\n",
      "[I 2024-10-31 20:24:48,130] Trial 2 finished with value: 0.7412698412698412 and parameters: {'n_estimators': 93, 'learning_rate': 0.17613782447216425, 'max_depth': 320, 'min_samples_split': 30, 'min_samples_leaf': 68}. Best is trial 2 with value: 0.7412698412698412.\n",
      "[I 2024-10-31 20:24:48,149] Trial 3 finished with value: 0.7031746031746031 and parameters: {'n_estimators': 42, 'learning_rate': 0.13758500769538162, 'max_depth': 421, 'min_samples_split': 188, 'min_samples_leaf': 37}. Best is trial 2 with value: 0.7412698412698412.\n",
      "[I 2024-10-31 20:24:48,221] Trial 4 finished with value: 0.7031746031746031 and parameters: {'n_estimators': 155, 'learning_rate': 0.03626358125557264, 'max_depth': 447, 'min_samples_split': 195, 'min_samples_leaf': 4}. Best is trial 2 with value: 0.7412698412698412.\n",
      "[I 2024-10-31 20:24:48,243] Trial 5 finished with value: 0.5 and parameters: {'n_estimators': 35, 'learning_rate': 0.0004943214020599621, 'max_depth': 209, 'min_samples_split': 94, 'min_samples_leaf': 39}. Best is trial 2 with value: 0.7412698412698412.\n",
      "[I 2024-10-31 20:24:48,325] Trial 6 finished with value: 0.5 and parameters: {'n_estimators': 127, 'learning_rate': 0.0005297110148565206, 'max_depth': 194, 'min_samples_split': 45, 'min_samples_leaf': 9}. Best is trial 2 with value: 0.7412698412698412.\n",
      "[I 2024-10-31 20:24:48,398] Trial 7 finished with value: 0.680952380952381 and parameters: {'n_estimators': 198, 'learning_rate': 0.2300077689734747, 'max_depth': 313, 'min_samples_split': 194, 'min_samples_leaf': 69}. Best is trial 2 with value: 0.7412698412698412.\n",
      "[I 2024-10-31 20:24:48,464] Trial 8 finished with value: 0.7412698412698412 and parameters: {'n_estimators': 152, 'learning_rate': 0.40233416777560826, 'max_depth': 43, 'min_samples_split': 149, 'min_samples_leaf': 11}. Best is trial 2 with value: 0.7412698412698412.\n",
      "[I 2024-10-31 20:24:48,492] Trial 9 finished with value: 0.5 and parameters: {'n_estimators': 67, 'learning_rate': 5.69267266338877, 'max_depth': 196, 'min_samples_split': 122, 'min_samples_leaf': 72}. Best is trial 2 with value: 0.7412698412698412.\n",
      "[I 2024-10-31 20:24:48,537] Trial 10 finished with value: 0.5 and parameters: {'n_estimators': 79, 'learning_rate': 0.006777508641924636, 'max_depth': 341, 'min_samples_split': 3, 'min_samples_leaf': 96}. Best is trial 2 with value: 0.7412698412698412.\n",
      "[I 2024-10-31 20:24:48,624] Trial 11 finished with value: 0.6698412698412698 and parameters: {'n_estimators': 178, 'learning_rate': 0.6540972853319565, 'max_depth': 21, 'min_samples_split': 74, 'min_samples_leaf': 62}. Best is trial 2 with value: 0.7412698412698412.\n",
      "[I 2024-10-31 20:24:48,685] Trial 12 finished with value: 0.8238095238095238 and parameters: {'n_estimators': 108, 'learning_rate': 0.6906790306647492, 'max_depth': 25, 'min_samples_split': 138, 'min_samples_leaf': 20}. Best is trial 12 with value: 0.8238095238095238.\n",
      "[I 2024-10-31 20:24:48,762] Trial 13 finished with value: 0.5380952380952381 and parameters: {'n_estimators': 102, 'learning_rate': 1.5927927472144268, 'max_depth': 89, 'min_samples_split': 20, 'min_samples_leaf': 24}. Best is trial 12 with value: 0.8238095238095238.\n",
      "[I 2024-10-31 20:24:48,820] Trial 14 finished with value: 0.680952380952381 and parameters: {'n_estimators': 98, 'learning_rate': 0.04149538942627344, 'max_depth': 333, 'min_samples_split': 59, 'min_samples_leaf': 53}. Best is trial 12 with value: 0.8238095238095238.\n",
      "[I 2024-10-31 20:24:48,878] Trial 15 finished with value: 0.5 and parameters: {'n_estimators': 115, 'learning_rate': 0.0049866383682622435, 'max_depth': 112, 'min_samples_split': 111, 'min_samples_leaf': 83}. Best is trial 12 with value: 0.8238095238095238.\n",
      "[I 2024-10-31 20:24:48,925] Trial 16 finished with value: 0.7523809523809523 and parameters: {'n_estimators': 74, 'learning_rate': 1.0262489425241292, 'max_depth': 384, 'min_samples_split': 143, 'min_samples_leaf': 23}. Best is trial 12 with value: 0.8238095238095238.\n",
      "[I 2024-10-31 20:24:48,961] Trial 17 finished with value: 0.7412698412698412 and parameters: {'n_estimators': 50, 'learning_rate': 0.9799437623693111, 'max_depth': 496, 'min_samples_split': 148, 'min_samples_leaf': 23}. Best is trial 12 with value: 0.8238095238095238.\n",
      "[I 2024-10-31 20:24:49,005] Trial 18 finished with value: 0.16666666666666666 and parameters: {'n_estimators': 67, 'learning_rate': 8.12844249348335, 'max_depth': 139, 'min_samples_split': 127, 'min_samples_leaf': 23}. Best is trial 12 with value: 0.8238095238095238.\n",
      "[I 2024-10-31 20:24:49,025] Trial 19 finished with value: 0.6968253968253968 and parameters: {'n_estimators': 11, 'learning_rate': 2.058771742816895, 'max_depth': 385, 'min_samples_split': 167, 'min_samples_leaf': 17}. Best is trial 12 with value: 0.8238095238095238.\n",
      "[I 2024-10-31 20:24:49,076] Trial 20 finished with value: 0.8238095238095238 and parameters: {'n_estimators': 77, 'learning_rate': 0.07453422368272902, 'max_depth': 273, 'min_samples_split': 91, 'min_samples_leaf': 45}. Best is trial 12 with value: 0.8238095238095238.\n",
      "[I 2024-10-31 20:24:49,130] Trial 21 finished with value: 0.692063492063492 and parameters: {'n_estimators': 75, 'learning_rate': 0.08499939337735435, 'max_depth': 274, 'min_samples_split': 89, 'min_samples_leaf': 33}. Best is trial 12 with value: 0.8238095238095238.\n",
      "[I 2024-10-31 20:24:49,168] Trial 22 finished with value: 0.7634920634920634 and parameters: {'n_estimators': 55, 'learning_rate': 0.3748121279937699, 'max_depth': 266, 'min_samples_split': 132, 'min_samples_leaf': 50}. Best is trial 12 with value: 0.8238095238095238.\n",
      "[I 2024-10-31 20:24:49,210] Trial 23 finished with value: 0.5 and parameters: {'n_estimators': 56, 'learning_rate': 0.01672141866274632, 'max_depth': 280, 'min_samples_split': 111, 'min_samples_leaf': 50}. Best is trial 12 with value: 0.8238095238095238.\n",
      "[I 2024-10-31 20:24:49,239] Trial 24 finished with value: 0.5 and parameters: {'n_estimators': 29, 'learning_rate': 0.0015514065851947021, 'max_depth': 161, 'min_samples_split': 82, 'min_samples_leaf': 49}. Best is trial 12 with value: 0.8238095238095238.\n",
      "[I 2024-10-31 20:24:49,289] Trial 25 finished with value: 0.6698412698412698 and parameters: {'n_estimators': 86, 'learning_rate': 0.07942594179790778, 'max_depth': 259, 'min_samples_split': 130, 'min_samples_leaf': 56}. Best is trial 12 with value: 0.8238095238095238.\n",
      "[I 2024-10-31 20:24:49,308] Trial 26 finished with value: 0.5 and parameters: {'n_estimators': 1, 'learning_rate': 0.3958202357226886, 'max_depth': 80, 'min_samples_split': 165, 'min_samples_leaf': 46}. Best is trial 12 with value: 0.8238095238095238.\n",
      "[I 2024-10-31 20:24:49,380] Trial 27 finished with value: 0.5 and parameters: {'n_estimators': 109, 'learning_rate': 0.00014969899192313822, 'max_depth': 153, 'min_samples_split': 115, 'min_samples_leaf': 33}. Best is trial 12 with value: 0.8238095238095238.\n",
      "[I 2024-10-31 20:24:49,445] Trial 28 finished with value: 0.680952380952381 and parameters: {'n_estimators': 119, 'learning_rate': 0.35930181475161344, 'max_depth': 299, 'min_samples_split': 102, 'min_samples_leaf': 61}. Best is trial 12 with value: 0.8238095238095238.\n",
      "[I 2024-10-31 20:24:49,514] Trial 29 finished with value: 0.680952380952381 and parameters: {'n_estimators': 144, 'learning_rate': 0.06325068128397993, 'max_depth': 242, 'min_samples_split': 168, 'min_samples_leaf': 77}. Best is trial 12 with value: 0.8238095238095238.\n",
      "[I 2024-10-31 20:24:49,553] Trial 30 finished with value: 0.5 and parameters: {'n_estimators': 56, 'learning_rate': 0.022316305036233896, 'max_depth': 359, 'min_samples_split': 136, 'min_samples_leaf': 44}. Best is trial 12 with value: 0.8238095238095238.\n",
      "[I 2024-10-31 20:24:49,605] Trial 31 finished with value: 0.8507936507936509 and parameters: {'n_estimators': 86, 'learning_rate': 1.2058873979701377, 'max_depth': 411, 'min_samples_split': 140, 'min_samples_leaf': 30}. Best is trial 31 with value: 0.8507936507936509.\n",
      "[I 2024-10-31 20:24:49,670] Trial 32 finished with value: 0.5 and parameters: {'n_estimators': 94, 'learning_rate': 3.5243835174395337, 'max_depth': 444, 'min_samples_split': 69, 'min_samples_leaf': 31}. Best is trial 31 with value: 0.8507936507936509.\n",
      "[I 2024-10-31 20:24:49,742] Trial 33 finished with value: 0.8333333333333333 and parameters: {'n_estimators': 137, 'learning_rate': 1.9319682066314985, 'max_depth': 498, 'min_samples_split': 161, 'min_samples_leaf': 42}. Best is trial 31 with value: 0.8507936507936509.\n",
      "[I 2024-10-31 20:24:49,810] Trial 34 finished with value: 0.3031746031746032 and parameters: {'n_estimators': 136, 'learning_rate': 3.034589178276516, 'max_depth': 484, 'min_samples_split': 176, 'min_samples_leaf': 40}. Best is trial 31 with value: 0.8507936507936509.\n",
      "[I 2024-10-31 20:24:49,876] Trial 35 finished with value: 0.7523809523809523 and parameters: {'n_estimators': 128, 'learning_rate': 0.17371373426668374, 'max_depth': 466, 'min_samples_split': 179, 'min_samples_leaf': 29}. Best is trial 31 with value: 0.8507936507936509.\n",
      "[I 2024-10-31 20:24:49,958] Trial 36 finished with value: 0.8126984126984127 and parameters: {'n_estimators': 165, 'learning_rate': 0.8988420029920793, 'max_depth': 401, 'min_samples_split': 156, 'min_samples_leaf': 43}. Best is trial 31 with value: 0.8507936507936509.\n",
      "[I 2024-10-31 20:24:50,037] Trial 37 finished with value: 0.526984126984127 and parameters: {'n_estimators': 107, 'learning_rate': 1.6847426480911054, 'max_depth': 427, 'min_samples_split': 157, 'min_samples_leaf': 1}. Best is trial 31 with value: 0.8507936507936509.\n",
      "[I 2024-10-31 20:24:50,096] Trial 38 finished with value: 0.8333333333333333 and parameters: {'n_estimators': 86, 'learning_rate': 5.339693751124062, 'max_depth': 464, 'min_samples_split': 96, 'min_samples_leaf': 15}. Best is trial 31 with value: 0.8507936507936509.\n",
      "[I 2024-10-31 20:24:50,170] Trial 39 finished with value: 0.16666666666666666 and parameters: {'n_estimators': 138, 'learning_rate': 8.11989813189838, 'max_depth': 464, 'min_samples_split': 140, 'min_samples_leaf': 16}. Best is trial 31 with value: 0.8507936507936509.\n",
      "[I 2024-10-31 20:24:50,241] Trial 40 finished with value: 0.719047619047619 and parameters: {'n_estimators': 121, 'learning_rate': 4.441579922397719, 'max_depth': 418, 'min_samples_split': 102, 'min_samples_leaf': 9}. Best is trial 31 with value: 0.8507936507936509.\n",
      "[I 2024-10-31 20:24:50,303] Trial 41 finished with value: 0.7063492063492064 and parameters: {'n_estimators': 87, 'learning_rate': 1.966356678792434, 'max_depth': 486, 'min_samples_split': 95, 'min_samples_leaf': 16}. Best is trial 31 with value: 0.8507936507936509.\n",
      "[I 2024-10-31 20:24:50,361] Trial 42 finished with value: 0.8126984126984127 and parameters: {'n_estimators': 87, 'learning_rate': 0.7063906613183586, 'max_depth': 458, 'min_samples_split': 120, 'min_samples_leaf': 38}. Best is trial 31 with value: 0.8507936507936509.\n",
      "[I 2024-10-31 20:24:50,419] Trial 43 finished with value: 0.23333333333333334 and parameters: {'n_estimators': 68, 'learning_rate': 2.9319418591549784, 'max_depth': 363, 'min_samples_split': 55, 'min_samples_leaf': 27}. Best is trial 31 with value: 0.8507936507936509.\n",
      "[I 2024-10-31 20:24:50,493] Trial 44 finished with value: 0.7634920634920634 and parameters: {'n_estimators': 112, 'learning_rate': 0.18630381440000648, 'max_depth': 434, 'min_samples_split': 84, 'min_samples_leaf': 36}. Best is trial 31 with value: 0.8507936507936509.\n",
      "[I 2024-10-31 20:24:50,551] Trial 45 finished with value: 0.3031746031746032 and parameters: {'n_estimators': 97, 'learning_rate': 9.740444046057508, 'max_depth': 221, 'min_samples_split': 181, 'min_samples_leaf': 12}. Best is trial 31 with value: 0.8507936507936509.\n",
      "[I 2024-10-31 20:24:50,656] Trial 46 finished with value: 0.6666666666666666 and parameters: {'n_estimators': 155, 'learning_rate': 5.391674773986642, 'max_depth': 404, 'min_samples_split': 73, 'min_samples_leaf': 5}. Best is trial 31 with value: 0.8507936507936509.\n",
      "[I 2024-10-31 20:24:50,690] Trial 47 finished with value: 0.7523809523809523 and parameters: {'n_estimators': 38, 'learning_rate': 1.3227743321603584, 'max_depth': 498, 'min_samples_split': 200, 'min_samples_leaf': 17}. Best is trial 31 with value: 0.8507936507936509.\n",
      "[I 2024-10-31 20:24:50,743] Trial 48 finished with value: 0.7634920634920634 and parameters: {'n_estimators': 82, 'learning_rate': 0.5512313706711145, 'max_depth': 477, 'min_samples_split': 107, 'min_samples_leaf': 57}. Best is trial 31 with value: 0.8507936507936509.\n",
      "[I 2024-10-31 20:24:50,807] Trial 49 finished with value: 0.7523809523809523 and parameters: {'n_estimators': 102, 'learning_rate': 0.26672842800981234, 'max_depth': 52, 'min_samples_split': 122, 'min_samples_leaf': 28}. Best is trial 31 with value: 0.8507936507936509.\n",
      "[I 2024-10-31 20:24:50,808] A new study created in memory with name: no-name-abd04064-2af0-478a-8575-73ce531868ce\n"
     ]
    },
    {
     "name": "stdout",
     "output_type": "stream",
     "text": [
      "Best ROC-AUC for GradientBoostingClassifier:  0.8507936507936509\n",
      "Best hyperparameters for GradientBoostingClassifier:  {'n_estimators': 86, 'learning_rate': 1.2058873979701377, 'max_depth': 411, 'min_samples_split': 140, 'min_samples_leaf': 30}\n"
     ]
    },
    {
     "name": "stderr",
     "output_type": "stream",
     "text": [
      "C:\\Users\\dan4i\\AppData\\Local\\Packages\\PythonSoftwareFoundation.Python.3.12_qbz5n2kfra8p0\\LocalCache\\local-packages\\Python312\\site-packages\\sklearn\\neural_network\\_multilayer_perceptron.py:690: ConvergenceWarning: Stochastic Optimizer: Maximum iterations (129) reached and the optimization hasn't converged yet.\n",
      "  warnings.warn(\n",
      "[I 2024-10-31 20:24:51,069] Trial 0 finished with value: 0.7031746031746031 and parameters: {'hidden_layer_sizes ': 769, 'max_iter': 129}. Best is trial 0 with value: 0.7031746031746031.\n",
      "[I 2024-10-31 20:24:51,729] Trial 1 finished with value: 0.834920634920635 and parameters: {'hidden_layer_sizes ': 417, 'max_iter': 693}. Best is trial 1 with value: 0.834920634920635.\n",
      "[I 2024-10-31 20:24:52,448] Trial 2 finished with value: 0.834920634920635 and parameters: {'hidden_layer_sizes ': 850, 'max_iter': 351}. Best is trial 1 with value: 0.834920634920635.\n",
      "C:\\Users\\dan4i\\AppData\\Local\\Packages\\PythonSoftwareFoundation.Python.3.12_qbz5n2kfra8p0\\LocalCache\\local-packages\\Python312\\site-packages\\sklearn\\neural_network\\_multilayer_perceptron.py:690: ConvergenceWarning: Stochastic Optimizer: Maximum iterations (258) reached and the optimization hasn't converged yet.\n",
      "  warnings.warn(\n",
      "[I 2024-10-31 20:24:52,773] Trial 3 finished with value: 0.7031746031746031 and parameters: {'hidden_layer_sizes ': 452, 'max_iter': 258}. Best is trial 1 with value: 0.834920634920635.\n",
      "C:\\Users\\dan4i\\AppData\\Local\\Packages\\PythonSoftwareFoundation.Python.3.12_qbz5n2kfra8p0\\LocalCache\\local-packages\\Python312\\site-packages\\sklearn\\neural_network\\_multilayer_perceptron.py:690: ConvergenceWarning: Stochastic Optimizer: Maximum iterations (152) reached and the optimization hasn't converged yet.\n",
      "  warnings.warn(\n",
      "[I 2024-10-31 20:24:53,164] Trial 4 finished with value: 0.7031746031746031 and parameters: {'hidden_layer_sizes ': 933, 'max_iter': 152}. Best is trial 1 with value: 0.834920634920635.\n",
      "[I 2024-10-31 20:24:54,208] Trial 5 finished with value: 0.8126984126984127 and parameters: {'hidden_layer_sizes ': 803, 'max_iter': 946}. Best is trial 1 with value: 0.834920634920635.\n",
      "C:\\Users\\dan4i\\AppData\\Local\\Packages\\PythonSoftwareFoundation.Python.3.12_qbz5n2kfra8p0\\LocalCache\\local-packages\\Python312\\site-packages\\sklearn\\neural_network\\_multilayer_perceptron.py:690: ConvergenceWarning: Stochastic Optimizer: Maximum iterations (127) reached and the optimization hasn't converged yet.\n",
      "  warnings.warn(\n",
      "[I 2024-10-31 20:24:54,510] Trial 6 finished with value: 0.680952380952381 and parameters: {'hidden_layer_sizes ': 794, 'max_iter': 127}. Best is trial 1 with value: 0.834920634920635.\n",
      "[I 2024-10-31 20:24:55,365] Trial 7 finished with value: 0.7904761904761906 and parameters: {'hidden_layer_sizes ': 750, 'max_iter': 479}. Best is trial 1 with value: 0.834920634920635.\n",
      "[I 2024-10-31 20:24:55,759] Trial 8 finished with value: 0.7031746031746031 and parameters: {'hidden_layer_sizes ': 191, 'max_iter': 740}. Best is trial 1 with value: 0.834920634920635.\n",
      "C:\\Users\\dan4i\\AppData\\Local\\Packages\\PythonSoftwareFoundation.Python.3.12_qbz5n2kfra8p0\\LocalCache\\local-packages\\Python312\\site-packages\\sklearn\\neural_network\\_multilayer_perceptron.py:690: ConvergenceWarning: Stochastic Optimizer: Maximum iterations (309) reached and the optimization hasn't converged yet.\n",
      "  warnings.warn(\n",
      "[I 2024-10-31 20:24:56,153] Trial 9 finished with value: 0.834920634920635 and parameters: {'hidden_layer_sizes ': 455, 'max_iter': 309}. Best is trial 1 with value: 0.834920634920635.\n",
      "C:\\Users\\dan4i\\AppData\\Local\\Packages\\PythonSoftwareFoundation.Python.3.12_qbz5n2kfra8p0\\LocalCache\\local-packages\\Python312\\site-packages\\sklearn\\neural_network\\_multilayer_perceptron.py:690: ConvergenceWarning: Stochastic Optimizer: Maximum iterations (679) reached and the optimization hasn't converged yet.\n",
      "  warnings.warn(\n",
      "[I 2024-10-31 20:24:56,404] Trial 10 finished with value: 0.680952380952381 and parameters: {'hidden_layer_sizes ': 25, 'max_iter': 679}. Best is trial 1 with value: 0.834920634920635.\n",
      "[I 2024-10-31 20:24:56,845] Trial 11 finished with value: 0.846031746031746 and parameters: {'hidden_layer_sizes ': 562, 'max_iter': 470}. Best is trial 11 with value: 0.846031746031746.\n",
      "[I 2024-10-31 20:24:57,489] Trial 12 finished with value: 0.8015873015873016 and parameters: {'hidden_layer_sizes ': 594, 'max_iter': 600}. Best is trial 11 with value: 0.846031746031746.\n",
      "[I 2024-10-31 20:24:57,581] Trial 13 finished with value: 0.6428571428571428 and parameters: {'hidden_layer_sizes ': 303, 'max_iter': 811}. Best is trial 11 with value: 0.846031746031746.\n",
      "[I 2024-10-31 20:24:58,371] Trial 14 finished with value: 0.7746031746031745 and parameters: {'hidden_layer_sizes ': 585, 'max_iter': 505}. Best is trial 11 with value: 0.846031746031746.\n",
      "[I 2024-10-31 20:24:58,748] Trial 15 finished with value: 0.7523809523809523 and parameters: {'hidden_layer_sizes ': 335, 'max_iter': 427}. Best is trial 11 with value: 0.846031746031746.\n",
      "[I 2024-10-31 20:24:59,442] Trial 16 finished with value: 0.7523809523809523 and parameters: {'hidden_layer_sizes ': 601, 'max_iter': 880}. Best is trial 11 with value: 0.846031746031746.\n",
      "[I 2024-10-31 20:24:59,697] Trial 17 finished with value: 0.7523809523809523 and parameters: {'hidden_layer_sizes ': 263, 'max_iter': 628}. Best is trial 11 with value: 0.846031746031746.\n",
      "[I 2024-10-31 20:24:59,888] Trial 18 finished with value: 0.7301587301587301 and parameters: {'hidden_layer_sizes ': 94, 'max_iter': 741}. Best is trial 11 with value: 0.846031746031746.\n",
      "C:\\Users\\dan4i\\AppData\\Local\\Packages\\PythonSoftwareFoundation.Python.3.12_qbz5n2kfra8p0\\LocalCache\\local-packages\\Python312\\site-packages\\sklearn\\neural_network\\_multilayer_perceptron.py:690: ConvergenceWarning: Stochastic Optimizer: Maximum iterations (537) reached and the optimization hasn't converged yet.\n",
      "  warnings.warn(\n",
      "[I 2024-10-31 20:25:00,878] Trial 19 finished with value: 0.8238095238095238 and parameters: {'hidden_layer_sizes ': 669, 'max_iter': 537}. Best is trial 11 with value: 0.846031746031746.\n",
      "[I 2024-10-31 20:25:01,354] Trial 20 finished with value: 0.834920634920635 and parameters: {'hidden_layer_sizes ': 400, 'max_iter': 997}. Best is trial 11 with value: 0.846031746031746.\n",
      "C:\\Users\\dan4i\\AppData\\Local\\Packages\\PythonSoftwareFoundation.Python.3.12_qbz5n2kfra8p0\\LocalCache\\local-packages\\Python312\\site-packages\\sklearn\\neural_network\\_multilayer_perceptron.py:690: ConvergenceWarning: Stochastic Optimizer: Maximum iterations (385) reached and the optimization hasn't converged yet.\n",
      "  warnings.warn(\n",
      "[I 2024-10-31 20:25:02,351] Trial 21 finished with value: 0.8238095238095238 and parameters: {'hidden_layer_sizes ': 951, 'max_iter': 385}. Best is trial 11 with value: 0.846031746031746.\n",
      "C:\\Users\\dan4i\\AppData\\Local\\Packages\\PythonSoftwareFoundation.Python.3.12_qbz5n2kfra8p0\\LocalCache\\local-packages\\Python312\\site-packages\\sklearn\\neural_network\\_multilayer_perceptron.py:690: ConvergenceWarning: Stochastic Optimizer: Maximum iterations (334) reached and the optimization hasn't converged yet.\n",
      "  warnings.warn(\n",
      "[I 2024-10-31 20:25:02,832] Trial 22 finished with value: 0.8238095238095238 and parameters: {'hidden_layer_sizes ': 523, 'max_iter': 334}. Best is trial 11 with value: 0.846031746031746.\n",
      "C:\\Users\\dan4i\\AppData\\Local\\Packages\\PythonSoftwareFoundation.Python.3.12_qbz5n2kfra8p0\\LocalCache\\local-packages\\Python312\\site-packages\\sklearn\\neural_network\\_multilayer_perceptron.py:690: ConvergenceWarning: Stochastic Optimizer: Maximum iterations (246) reached and the optimization hasn't converged yet.\n",
      "  warnings.warn(\n",
      "[I 2024-10-31 20:25:03,383] Trial 23 finished with value: 0.680952380952381 and parameters: {'hidden_layer_sizes ': 872, 'max_iter': 246}. Best is trial 11 with value: 0.846031746031746.\n",
      "C:\\Users\\dan4i\\AppData\\Local\\Packages\\PythonSoftwareFoundation.Python.3.12_qbz5n2kfra8p0\\LocalCache\\local-packages\\Python312\\site-packages\\sklearn\\neural_network\\_multilayer_perceptron.py:690: ConvergenceWarning: Stochastic Optimizer: Maximum iterations (417) reached and the optimization hasn't converged yet.\n",
      "  warnings.warn(\n",
      "[I 2024-10-31 20:25:04,122] Trial 24 finished with value: 0.8238095238095238 and parameters: {'hidden_layer_sizes ': 668, 'max_iter': 417}. Best is trial 11 with value: 0.846031746031746.\n"
     ]
    },
    {
     "name": "stdout",
     "output_type": "stream",
     "text": [
      "Best ROC-AUC for MLPClassifier:  0.846031746031746\n",
      "Best hyperparameters for MLPClassifier:  {'hidden_layer_sizes ': 562, 'max_iter': 470}\n"
     ]
    }
   ],
   "source": [
    "#оптимизируем гиперпараметры\n",
    "import optuna\n",
    "\n",
    "\n",
    "def objective_gbc(trial):\n",
    "    n_estimators = trial.suggest_int('n_estimators', 1, 200)\n",
    "    learning_rate = trial.suggest_float('learning_rate', 1e-4, 10.0, log=True)\n",
    "    max_depth = trial.suggest_int('max_depth', 1, 500)\n",
    "    min_samples_split = trial.suggest_int('min_samples_split', 2, 200)\n",
    "    min_samples_leaf = trial.suggest_int('min_samples_leaf', 1, 100)\n",
    "\n",
    "    model = GradientBoostingClassifier(max_depth=max_depth,\n",
    "                                   min_samples_split=min_samples_split,\n",
    "                                   min_samples_leaf=min_samples_leaf,\n",
    "                                   n_estimators = n_estimators,\n",
    "                                    learning_rate = learning_rate)\n",
    "    model.fit(X_train_scaled, y_train)\n",
    "\n",
    "    y_pred = model.predict(X_test_scaled)\n",
    "    roc_auc = roc_auc_score(y_test, y_pred)\n",
    "    return roc_auc\n",
    "\n",
    "\n",
    "def objective_mlp(trial):\n",
    "    hidden_layer_sizes = trial.suggest_int('hidden_layer_sizes ', 2, 1000)\n",
    "    max_iter = trial.suggest_int('max_iter', 100, 1000)\n",
    "\n",
    "    model = MLPClassifier(\n",
    "        hidden_layer_sizes=hidden_layer_sizes,\n",
    "        max_iter=max_iter\n",
    "    )\n",
    "    model.fit(X_train_scaled, y_train)\n",
    "\n",
    "    y_pred = model.predict(X_test_scaled)\n",
    "    roc_auc = roc_auc_score(y_test, y_pred)\n",
    "    return roc_auc\n",
    "\n",
    "\n",
    "study_gbc = optuna.create_study(direction='maximize')\n",
    "study_gbc.optimize(objective_gbc, n_trials=50)\n",
    "\n",
    "print(\"Best ROC-AUC for GradientBoostingClassifier: \", study_gbc.best_value)\n",
    "print(\"Best hyperparameters for GradientBoostingClassifier: \", study_gbc.best_params)\n",
    "\n",
    "\n",
    "study_mlp = optuna.create_study(direction='maximize')\n",
    "study_mlp.optimize(objective_mlp, n_trials=25)\n",
    "\n",
    "print(\"Best ROC-AUC for MLPClassifier: \", study_mlp.best_value)\n",
    "print(\"Best hyperparameters for MLPClassifier: \", study_mlp.best_params)"
   ]
  },
  {
   "cell_type": "code",
   "execution_count": 15,
   "id": "yJBK7MFr_xJx",
   "metadata": {
    "colab": {
     "base_uri": "https://localhost:8080/"
    },
    "id": "yJBK7MFr_xJx",
    "outputId": "3a9d11b0-5ffd-449f-9975-3b18d5476a3a"
   },
   "outputs": [
    {
     "name": "stderr",
     "output_type": "stream",
     "text": [
      "[I 2024-10-31 20:27:22,629] A new study created in memory with name: no-name-f855cf28-cc3f-458e-86f4-4304c1e1c35d\n",
      "[I 2024-10-31 20:27:22,706] Trial 0 finished with value: 0.7031746031746031 and parameters: {'n_estimators': 79, 'max_depth': 9, 'min_samples_split': 9, 'min_samples_leaf': 1}. Best is trial 0 with value: 0.7031746031746031.\n",
      "[I 2024-10-31 20:27:22,812] Trial 1 finished with value: 0.7634920634920634 and parameters: {'n_estimators': 133, 'max_depth': 11, 'min_samples_split': 6, 'min_samples_leaf': 1}. Best is trial 1 with value: 0.7634920634920634.\n",
      "[I 2024-10-31 20:27:22,887] Trial 2 finished with value: 0.7746031746031745 and parameters: {'n_estimators': 91, 'max_depth': 12, 'min_samples_split': 2, 'min_samples_leaf': 4}. Best is trial 2 with value: 0.7746031746031745.\n",
      "[I 2024-10-31 20:27:22,977] Trial 3 finished with value: 0.7746031746031745 and parameters: {'n_estimators': 118, 'max_depth': 6, 'min_samples_split': 2, 'min_samples_leaf': 3}. Best is trial 2 with value: 0.7746031746031745.\n",
      "[I 2024-10-31 20:27:23,067] Trial 4 finished with value: 0.7746031746031745 and parameters: {'n_estimators': 113, 'max_depth': 10, 'min_samples_split': 7, 'min_samples_leaf': 3}. Best is trial 2 with value: 0.7746031746031745.\n",
      "[I 2024-10-31 20:27:23,155] Trial 5 finished with value: 0.6428571428571428 and parameters: {'n_estimators': 117, 'max_depth': 6, 'min_samples_split': 9, 'min_samples_leaf': 3}. Best is trial 2 with value: 0.7746031746031745.\n",
      "[I 2024-10-31 20:27:23,273] Trial 6 finished with value: 0.7031746031746031 and parameters: {'n_estimators': 150, 'max_depth': 19, 'min_samples_split': 7, 'min_samples_leaf': 1}. Best is trial 2 with value: 0.7746031746031745.\n",
      "[I 2024-10-31 20:27:23,360] Trial 7 finished with value: 0.7634920634920634 and parameters: {'n_estimators': 109, 'max_depth': 14, 'min_samples_split': 2, 'min_samples_leaf': 1}. Best is trial 2 with value: 0.7746031746031745.\n",
      "[I 2024-10-31 20:27:23,464] Trial 8 finished with value: 0.7746031746031745 and parameters: {'n_estimators': 136, 'max_depth': 19, 'min_samples_split': 7, 'min_samples_leaf': 4}. Best is trial 2 with value: 0.7746031746031745.\n",
      "[I 2024-10-31 20:27:23,561] Trial 9 finished with value: 0.7746031746031745 and parameters: {'n_estimators': 128, 'max_depth': 17, 'min_samples_split': 8, 'min_samples_leaf': 4}. Best is trial 2 with value: 0.7746031746031745.\n",
      "[I 2024-10-31 20:27:23,718] Trial 10 finished with value: 0.5714285714285714 and parameters: {'n_estimators': 200, 'max_depth': 3, 'min_samples_split': 4, 'min_samples_leaf': 5}. Best is trial 2 with value: 0.7746031746031745.\n",
      "[I 2024-10-31 20:27:23,770] Trial 11 finished with value: 0.5 and parameters: {'n_estimators': 54, 'max_depth': 2, 'min_samples_split': 2, 'min_samples_leaf': 4}. Best is trial 2 with value: 0.7746031746031745.\n",
      "[I 2024-10-31 20:27:23,847] Trial 12 finished with value: 0.7031746031746031 and parameters: {'n_estimators': 85, 'max_depth': 6, 'min_samples_split': 4, 'min_samples_leaf': 2}. Best is trial 2 with value: 0.7746031746031745.\n",
      "[I 2024-10-31 20:27:23,986] Trial 13 finished with value: 0.7031746031746031 and parameters: {'n_estimators': 169, 'max_depth': 14, 'min_samples_split': 4, 'min_samples_leaf': 3}. Best is trial 2 with value: 0.7746031746031745.\n",
      "[I 2024-10-31 20:27:24,066] Trial 14 finished with value: 0.6428571428571428 and parameters: {'n_estimators': 88, 'max_depth': 7, 'min_samples_split': 3, 'min_samples_leaf': 5}. Best is trial 2 with value: 0.7746031746031745.\n",
      "[I 2024-10-31 20:27:24,134] Trial 15 finished with value: 0.692063492063492 and parameters: {'n_estimators': 66, 'max_depth': 13, 'min_samples_split': 3, 'min_samples_leaf': 2}. Best is trial 2 with value: 0.7746031746031745.\n",
      "[I 2024-10-31 20:27:24,226] Trial 16 finished with value: 0.7746031746031745 and parameters: {'n_estimators': 100, 'max_depth': 8, 'min_samples_split': 5, 'min_samples_leaf': 4}. Best is trial 2 with value: 0.7746031746031745.\n",
      "[I 2024-10-31 20:27:24,360] Trial 17 finished with value: 0.6428571428571428 and parameters: {'n_estimators': 164, 'max_depth': 4, 'min_samples_split': 2, 'min_samples_leaf': 2}. Best is trial 2 with value: 0.7746031746031745.\n",
      "[I 2024-10-31 20:27:24,443] Trial 18 finished with value: 0.6428571428571428 and parameters: {'n_estimators': 93, 'max_depth': 12, 'min_samples_split': 3, 'min_samples_leaf': 5}. Best is trial 2 with value: 0.7746031746031745.\n",
      "[I 2024-10-31 20:27:24,509] Trial 19 finished with value: 0.7031746031746031 and parameters: {'n_estimators': 69, 'max_depth': 15, 'min_samples_split': 5, 'min_samples_leaf': 4}. Best is trial 2 with value: 0.7746031746031745.\n",
      "[I 2024-10-31 20:27:24,633] Trial 20 finished with value: 0.6317460317460317 and parameters: {'n_estimators': 149, 'max_depth': 5, 'min_samples_split': 5, 'min_samples_leaf': 3}. Best is trial 2 with value: 0.7746031746031745.\n",
      "[I 2024-10-31 20:27:24,733] Trial 21 finished with value: 0.7746031746031745 and parameters: {'n_estimators': 107, 'max_depth': 10, 'min_samples_split': 7, 'min_samples_leaf': 3}. Best is trial 2 with value: 0.7746031746031745.\n",
      "[I 2024-10-31 20:27:24,839] Trial 22 finished with value: 0.7031746031746031 and parameters: {'n_estimators': 118, 'max_depth': 10, 'min_samples_split': 10, 'min_samples_leaf': 3}. Best is trial 2 with value: 0.7746031746031745.\n",
      "[I 2024-10-31 20:27:24,930] Trial 23 finished with value: 0.7031746031746031 and parameters: {'n_estimators': 103, 'max_depth': 8, 'min_samples_split': 8, 'min_samples_leaf': 2}. Best is trial 2 with value: 0.7746031746031745.\n",
      "[I 2024-10-31 20:27:25,034] Trial 24 finished with value: 0.7031746031746031 and parameters: {'n_estimators': 119, 'max_depth': 16, 'min_samples_split': 6, 'min_samples_leaf': 3}. Best is trial 2 with value: 0.7746031746031745.\n",
      "[I 2024-10-31 20:27:25,158] Trial 25 finished with value: 0.7746031746031745 and parameters: {'n_estimators': 143, 'max_depth': 11, 'min_samples_split': 3, 'min_samples_leaf': 4}. Best is trial 2 with value: 0.7746031746031745.\n",
      "[I 2024-10-31 20:27:25,237] Trial 26 finished with value: 0.7031746031746031 and parameters: {'n_estimators': 77, 'max_depth': 12, 'min_samples_split': 2, 'min_samples_leaf': 3}. Best is trial 2 with value: 0.7746031746031745.\n",
      "[I 2024-10-31 20:27:25,322] Trial 27 finished with value: 0.7031746031746031 and parameters: {'n_estimators': 92, 'max_depth': 9, 'min_samples_split': 8, 'min_samples_leaf': 2}. Best is trial 2 with value: 0.7746031746031745.\n",
      "[I 2024-10-31 20:27:25,419] Trial 28 finished with value: 0.7857142857142857 and parameters: {'n_estimators': 112, 'max_depth': 7, 'min_samples_split': 4, 'min_samples_leaf': 4}. Best is trial 28 with value: 0.7857142857142857.\n",
      "[I 2024-10-31 20:27:25,492] Trial 29 finished with value: 0.6317460317460317 and parameters: {'n_estimators': 74, 'max_depth': 7, 'min_samples_split': 4, 'min_samples_leaf': 5}. Best is trial 28 with value: 0.7857142857142857.\n",
      "[I 2024-10-31 20:27:25,580] Trial 30 finished with value: 0.6428571428571428 and parameters: {'n_estimators': 101, 'max_depth': 4, 'min_samples_split': 3, 'min_samples_leaf': 4}. Best is trial 28 with value: 0.7857142857142857.\n",
      "[I 2024-10-31 20:27:25,680] Trial 31 finished with value: 0.7746031746031745 and parameters: {'n_estimators': 114, 'max_depth': 9, 'min_samples_split': 2, 'min_samples_leaf': 4}. Best is trial 28 with value: 0.7857142857142857.\n",
      "[I 2024-10-31 20:27:25,788] Trial 32 finished with value: 0.7031746031746031 and parameters: {'n_estimators': 125, 'max_depth': 10, 'min_samples_split': 6, 'min_samples_leaf': 3}. Best is trial 28 with value: 0.7857142857142857.\n",
      "[I 2024-10-31 20:27:25,904] Trial 33 finished with value: 0.7746031746031745 and parameters: {'n_estimators': 135, 'max_depth': 6, 'min_samples_split': 5, 'min_samples_leaf': 3}. Best is trial 28 with value: 0.7857142857142857.\n",
      "[I 2024-10-31 20:27:26,011] Trial 34 finished with value: 0.7746031746031745 and parameters: {'n_estimators': 124, 'max_depth': 8, 'min_samples_split': 3, 'min_samples_leaf': 4}. Best is trial 28 with value: 0.7857142857142857.\n",
      "[I 2024-10-31 20:27:26,106] Trial 35 finished with value: 0.7746031746031745 and parameters: {'n_estimators': 108, 'max_depth': 11, 'min_samples_split': 6, 'min_samples_leaf': 4}. Best is trial 28 with value: 0.7857142857142857.\n",
      "[I 2024-10-31 20:27:26,195] Trial 36 finished with value: 0.6317460317460317 and parameters: {'n_estimators': 98, 'max_depth': 5, 'min_samples_split': 2, 'min_samples_leaf': 3}. Best is trial 28 with value: 0.7857142857142857.\n",
      "[I 2024-10-31 20:27:26,296] Trial 37 finished with value: 0.6428571428571428 and parameters: {'n_estimators': 112, 'max_depth': 13, 'min_samples_split': 9, 'min_samples_leaf': 5}. Best is trial 28 with value: 0.7857142857142857.\n",
      "[I 2024-10-31 20:27:26,375] Trial 38 finished with value: 0.7746031746031745 and parameters: {'n_estimators': 83, 'max_depth': 7, 'min_samples_split': 7, 'min_samples_leaf': 3}. Best is trial 28 with value: 0.7857142857142857.\n",
      "[I 2024-10-31 20:27:26,512] Trial 39 finished with value: 0.7634920634920634 and parameters: {'n_estimators': 161, 'max_depth': 12, 'min_samples_split': 4, 'min_samples_leaf': 2}. Best is trial 28 with value: 0.7857142857142857.\n",
      "[I 2024-10-31 20:27:26,574] Trial 40 finished with value: 0.5 and parameters: {'n_estimators': 61, 'max_depth': 2, 'min_samples_split': 2, 'min_samples_leaf': 1}. Best is trial 28 with value: 0.7857142857142857.\n",
      "[I 2024-10-31 20:27:26,693] Trial 41 finished with value: 0.7746031746031745 and parameters: {'n_estimators': 136, 'max_depth': 19, 'min_samples_split': 7, 'min_samples_leaf': 4}. Best is trial 28 with value: 0.7857142857142857.\n",
      "[I 2024-10-31 20:27:26,804] Trial 42 finished with value: 0.7746031746031745 and parameters: {'n_estimators': 129, 'max_depth': 17, 'min_samples_split': 7, 'min_samples_leaf': 4}. Best is trial 28 with value: 0.7857142857142857.\n",
      "[I 2024-10-31 20:27:26,928] Trial 43 finished with value: 0.7746031746031745 and parameters: {'n_estimators': 144, 'max_depth': 20, 'min_samples_split': 8, 'min_samples_leaf': 4}. Best is trial 28 with value: 0.7857142857142857.\n",
      "[I 2024-10-31 20:27:27,106] Trial 44 finished with value: 0.6428571428571428 and parameters: {'n_estimators': 194, 'max_depth': 5, 'min_samples_split': 6, 'min_samples_leaf': 5}. Best is trial 28 with value: 0.7857142857142857.\n",
      "[I 2024-10-31 20:27:27,237] Trial 45 finished with value: 0.7746031746031745 and parameters: {'n_estimators': 122, 'max_depth': 18, 'min_samples_split': 7, 'min_samples_leaf': 4}. Best is trial 28 with value: 0.7857142857142857.\n",
      "[I 2024-10-31 20:27:27,359] Trial 46 finished with value: 0.7746031746031745 and parameters: {'n_estimators': 138, 'max_depth': 15, 'min_samples_split': 8, 'min_samples_leaf': 3}. Best is trial 28 with value: 0.7857142857142857.\n",
      "[I 2024-10-31 20:27:27,484] Trial 47 finished with value: 0.5714285714285714 and parameters: {'n_estimators': 154, 'max_depth': 3, 'min_samples_split': 5, 'min_samples_leaf': 4}. Best is trial 28 with value: 0.7857142857142857.\n",
      "[I 2024-10-31 20:27:27,631] Trial 48 finished with value: 0.6317460317460317 and parameters: {'n_estimators': 178, 'max_depth': 9, 'min_samples_split': 4, 'min_samples_leaf': 5}. Best is trial 28 with value: 0.7857142857142857.\n",
      "[I 2024-10-31 20:27:27,741] Trial 49 finished with value: 0.7746031746031745 and parameters: {'n_estimators': 94, 'max_depth': 7, 'min_samples_split': 9, 'min_samples_leaf': 4}. Best is trial 28 with value: 0.7857142857142857.\n"
     ]
    },
    {
     "name": "stdout",
     "output_type": "stream",
     "text": [
      "Best ROC-AUC for RandomForestClassifier:  0.7857142857142857\n",
      "Best hyperparameters for RandomForestClassifier:  {'n_estimators': 112, 'max_depth': 7, 'min_samples_split': 4, 'min_samples_leaf': 4}\n"
     ]
    }
   ],
   "source": [
    "def objective_rf(trial):\n",
    "    n_estimators = trial.suggest_int(\"n_estimators\", 50, 200)\n",
    "    max_depth = trial.suggest_int(\"max_depth\", 2, 20)\n",
    "    min_samples_split = trial.suggest_int(\"min_samples_split\", 2, 10)\n",
    "    min_samples_leaf = trial.suggest_int(\"min_samples_leaf\", 1, 5)\n",
    "\n",
    "    model = RandomForestClassifier(\n",
    "        n_estimators=n_estimators,\n",
    "        max_depth=max_depth,\n",
    "        min_samples_split=min_samples_split,\n",
    "        min_samples_leaf=min_samples_leaf,\n",
    "        random_state=42\n",
    "    )\n",
    "    model.fit(X_train, y_train)\n",
    "\n",
    "    y_pred = model.predict(X_test)\n",
    "    roc_auc = roc_auc_score(y_test, y_pred)\n",
    "    return roc_auc\n",
    "\n",
    "study_rf = optuna.create_study(direction='maximize')\n",
    "study_rf.optimize(objective_rf, n_trials=50)\n",
    "\n",
    "print(\"Best ROC-AUC for RandomForestClassifier: \", study_rf.best_value)\n",
    "print(\"Best hyperparameters for RandomForestClassifier: \", study_rf.best_params)"
   ]
  },
  {
   "cell_type": "code",
   "execution_count": 25,
   "id": "vJhgYJMPghrr",
   "metadata": {
    "colab": {
     "base_uri": "https://localhost:8080/"
    },
    "id": "vJhgYJMPghrr",
    "outputId": "0e4614c3-f62d-4ad1-9152-eda9d5ddd0ea"
   },
   "outputs": [
    {
     "name": "stdout",
     "output_type": "stream",
     "text": [
      "Random Forest метрики:\n",
      "ROC AUC: 0.79\n",
      "Accuracy: 0.94\n",
      "Precision: 0.94\n",
      "Recall: 1.00\n"
     ]
    }
   ],
   "source": [
    "# Обучение Random Forest\n",
    "rf_params = {'n_estimators': 121, 'max_depth': 15, 'min_samples_split': 8, 'min_samples_leaf': 3}\n",
    "rf_model = RandomForestClassifier(**rf_params)\n",
    "rf_model.fit(X_train, y_train)\n",
    "\n",
    "# Прогноз на тестовых данных\n",
    "rf_pred = rf_model.predict(X_test)\n",
    "\n",
    "# Расчет метрик для Random Forest\n",
    "rf_roc_auc = roc_auc_score(y_test, rf_pred)\n",
    "rf_accuracy = accuracy_score(y_test, rf_pred)\n",
    "rf_precision = precision_score(y_test, rf_pred)\n",
    "rf_recall = recall_score(y_test, rf_pred)\n",
    "\n",
    "print(\"Random Forest метрики:\")\n",
    "print(f\"ROC AUC: {rf_roc_auc:.2f}\")\n",
    "print(f\"Accuracy: {rf_accuracy:.2f}\")\n",
    "print(f\"Precision: {rf_precision:.2f}\")\n",
    "print(f\"Recall: {rf_recall:.2f}\")"
   ]
  },
  {
   "cell_type": "code",
   "execution_count": 11,
   "id": "Wl09RCJZ_SRb",
   "metadata": {
    "colab": {
     "base_uri": "https://localhost:8080/"
    },
    "id": "Wl09RCJZ_SRb",
    "outputId": "8c1e9091-65d2-42b7-db4c-1de2235cbfff"
   },
   "outputs": [
    {
     "name": "stdout",
     "output_type": "stream",
     "text": [
      "\n",
      "Gradient Boosting метрики:\n",
      "ROC AUC: 0.81\n",
      "Accuracy: 0.88\n",
      "Precision: 0.95\n",
      "Recall: 0.91\n"
     ]
    }
   ],
   "source": [
    "# Обучение Gradient Boosting\n",
    "gb_params = {'n_estimators': 112, 'learning_rate': 0.12048539180625001, 'max_depth': 7, 'min_samples_split': 3, 'min_samples_leaf': 5, 'subsample': 0.8020632465655403, 'max_features': 'log2'}\n",
    "gb_model = GradientBoostingClassifier(**gb_params)\n",
    "gb_model.fit(X_train_scaled, y_train)\n",
    "\n",
    "# Прогноз на тестовых данных\n",
    "gb_pred = gb_model.predict(X_test_scaled)\n",
    "\n",
    "# Расчет метрик для Gradient Boosting\n",
    "gb_roc_auc = roc_auc_score(y_test, gb_pred)\n",
    "gb_accuracy = accuracy_score(y_test, gb_pred)\n",
    "gb_precision = precision_score(y_test, gb_pred)\n",
    "gb_recall = recall_score(y_test, gb_pred)\n",
    "\n",
    "print(\"\\nGradient Boosting метрики:\")\n",
    "print(f\"ROC AUC: {gb_roc_auc:.2f}\")\n",
    "print(f\"Accuracy: {gb_accuracy:.2f}\")\n",
    "print(f\"Precision: {gb_precision:.2f}\")\n",
    "print(f\"Recall: {gb_recall:.2f}\")"
   ]
  },
  {
   "cell_type": "code",
   "execution_count": 12,
   "id": "ae1e040c-ddd0-4952-9dcb-58c1226da40a",
   "metadata": {
    "colab": {
     "base_uri": "https://localhost:8080/"
    },
    "id": "ae1e040c-ddd0-4952-9dcb-58c1226da40a",
    "outputId": "d461e90d-e99a-43eb-e4b3-dc2e697b9933",
    "tags": []
   },
   "outputs": [
    {
     "name": "stdout",
     "output_type": "stream",
     "text": [
      "\n",
      "MLP (Neural Network) метрики:\n",
      "ROC AUC: 0.91\n",
      "Accuracy: 0.94\n",
      "Precision: 0.98\n",
      "Recall: 0.96\n"
     ]
    }
   ],
   "source": [
    "# Обучение MLP (Multi-Layer Perceptron) нейронной сети\n",
    "mlp_params = {'hidden_layer_sizes': 366, 'max_iter': 626}\n",
    "mlp_model = MLPClassifier(**mlp_params)\n",
    "mlp_model.fit(X_train_scaled, y_train)\n",
    "\n",
    "# Прогноз на тестовых данных\n",
    "mlp_pred = mlp_model.predict(X_test_scaled)\n",
    "\n",
    "# Расчет метрик для MLP нейронной сети\n",
    "mlp_roc_auc = roc_auc_score(y_test, mlp_pred)\n",
    "mlp_accuracy = accuracy_score(y_test, mlp_pred)\n",
    "mlp_precision = precision_score(y_test, mlp_pred)\n",
    "mlp_recall = recall_score(y_test, mlp_pred)\n",
    "\n",
    "print(\"\\nMLP (Neural Network) метрики:\")\n",
    "print(f\"ROC AUC: {mlp_roc_auc:.2f}\")\n",
    "print(f\"Accuracy: {mlp_accuracy:.2f}\")\n",
    "print(f\"Precision: {mlp_precision:.2f}\")\n",
    "print(f\"Recall: {mlp_recall:.2f}\")"
   ]
  },
  {
   "cell_type": "markdown",
   "id": "d2d6eb00-77fd-40dc-a3c5-35c1fe0200c0",
   "metadata": {
    "id": "d2d6eb00-77fd-40dc-a3c5-35c1fe0200c0"
   },
   "source": [
    "## Экспериментируйте\n",
    "Для получения лучшего качества придется поэкспериментировать. Подсказка: попробуйте оптимизировать гиперпараметры модели"
   ]
  }
 ],
 "metadata": {
  "colab": {
   "provenance": []
  },
  "kernelspec": {
   "display_name": "Python 3",
   "language": "python",
   "name": "python3"
  },
  "language_info": {
   "codemirror_mode": {
    "name": "ipython",
    "version": 3
   },
   "file_extension": ".py",
   "mimetype": "text/x-python",
   "name": "python",
   "nbconvert_exporter": "python",
   "pygments_lexer": "ipython3",
   "version": "3.12.7"
  }
 },
 "nbformat": 4,
 "nbformat_minor": 5
}
